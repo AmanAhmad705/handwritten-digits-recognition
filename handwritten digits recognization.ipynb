{
 "cells": [
  {
   "cell_type": "code",
   "execution_count": 1,
   "id": "2dac2510",
   "metadata": {
    "_cell_guid": "b1076dfc-b9ad-4769-8c92-a6c4dae69d19",
    "_uuid": "8f2839f25d086af736a60e9eeb907d3b93b6e0e5",
    "execution": {
     "iopub.execute_input": "2023-07-05T10:52:05.972175Z",
     "iopub.status.busy": "2023-07-05T10:52:05.971665Z",
     "iopub.status.idle": "2023-07-05T10:52:14.742679Z",
     "shell.execute_reply": "2023-07-05T10:52:14.741266Z"
    },
    "papermill": {
     "duration": 8.77963,
     "end_time": "2023-07-05T10:52:14.745307",
     "exception": false,
     "start_time": "2023-07-05T10:52:05.965677",
     "status": "completed"
    },
    "tags": []
   },
   "outputs": [
    {
     "name": "stderr",
     "output_type": "stream",
     "text": [
      "/opt/conda/lib/python3.10/site-packages/tensorflow_io/python/ops/__init__.py:98: UserWarning: unable to load libtensorflow_io_plugins.so: unable to open file: libtensorflow_io_plugins.so, from paths: ['/opt/conda/lib/python3.10/site-packages/tensorflow_io/python/ops/libtensorflow_io_plugins.so']\n",
      "caused by: ['/opt/conda/lib/python3.10/site-packages/tensorflow_io/python/ops/libtensorflow_io_plugins.so: undefined symbol: _ZN3tsl6StatusC1EN10tensorflow5error4CodeESt17basic_string_viewIcSt11char_traitsIcEENS_14SourceLocationE']\n",
      "  warnings.warn(f\"unable to load libtensorflow_io_plugins.so: {e}\")\n",
      "/opt/conda/lib/python3.10/site-packages/tensorflow_io/python/ops/__init__.py:104: UserWarning: file system plugins are not loaded: unable to open file: libtensorflow_io.so, from paths: ['/opt/conda/lib/python3.10/site-packages/tensorflow_io/python/ops/libtensorflow_io.so']\n",
      "caused by: ['/opt/conda/lib/python3.10/site-packages/tensorflow_io/python/ops/libtensorflow_io.so: undefined symbol: _ZTVN10tensorflow13GcsFileSystemE']\n",
      "  warnings.warn(f\"file system plugins are not loaded: {e}\")\n"
     ]
    },
    {
     "name": "stdout",
     "output_type": "stream",
     "text": [
      "/kaggle/input/digit-recognizer/sample_submission.csv\n",
      "/kaggle/input/digit-recognizer/train.csv\n",
      "/kaggle/input/digit-recognizer/test.csv\n"
     ]
    }
   ],
   "source": [
    "# This Python 3 environment comes with many helpful analytics libraries installed\n",
    "# It is defined by the kaggle/python Docker image: https://github.com/kaggle/docker-python\n",
    "# For example, here's several helpful packages to load\n",
    "\n",
    "import numpy as np # linear algebra\n",
    "import pandas as pd # data processing, CSV file I/O (e.g. pd.read_csv)\n",
    "import tensorflow as tf\n",
    "from tensorflow.keras.models import Sequential\n",
    "# Input data files are available in the read-only \"../input/\" directory\n",
    "# For example, running this (by clicking run or pressing Shift+Enter) will list all files under the input directory\n",
    "\n",
    "import os\n",
    "for dirname, _, filenames in os.walk('/kaggle/input'):\n",
    "    for filename in filenames:\n",
    "        print(os.path.join(dirname, filename))\n",
    "\n",
    "# You can write up to 20GB to the current directory (/kaggle/working/) that gets preserved as output when you create a version using \"Save & Run All\" \n",
    "# You can also write temporary files to /kaggle/temp/, but they won't be saved outside of the current session"
   ]
  },
  {
   "cell_type": "code",
   "execution_count": 2,
   "id": "5c9804e5",
   "metadata": {
    "execution": {
     "iopub.execute_input": "2023-07-05T10:52:14.756508Z",
     "iopub.status.busy": "2023-07-05T10:52:14.754929Z",
     "iopub.status.idle": "2023-07-05T10:52:20.261017Z",
     "shell.execute_reply": "2023-07-05T10:52:20.260195Z"
    },
    "papermill": {
     "duration": 5.513612,
     "end_time": "2023-07-05T10:52:20.263398",
     "exception": false,
     "start_time": "2023-07-05T10:52:14.749786",
     "status": "completed"
    },
    "tags": []
   },
   "outputs": [],
   "source": [
    "test_data = pd.read_csv('/kaggle/input/digit-recognizer/test.csv')\n",
    "train_data = pd.read_csv('/kaggle/input/digit-recognizer/train.csv')\n",
    "sample = pd.read_csv('/kaggle/input/digit-recognizer/sample_submission.csv')"
   ]
  },
  {
   "cell_type": "code",
   "execution_count": 3,
   "id": "f7764543",
   "metadata": {
    "execution": {
     "iopub.execute_input": "2023-07-05T10:52:20.274217Z",
     "iopub.status.busy": "2023-07-05T10:52:20.273144Z",
     "iopub.status.idle": "2023-07-05T10:52:20.310188Z",
     "shell.execute_reply": "2023-07-05T10:52:20.309034Z"
    },
    "papermill": {
     "duration": 0.044655,
     "end_time": "2023-07-05T10:52:20.312526",
     "exception": false,
     "start_time": "2023-07-05T10:52:20.267871",
     "status": "completed"
    },
    "tags": []
   },
   "outputs": [
    {
     "data": {
      "text/html": [
       "<div>\n",
       "<style scoped>\n",
       "    .dataframe tbody tr th:only-of-type {\n",
       "        vertical-align: middle;\n",
       "    }\n",
       "\n",
       "    .dataframe tbody tr th {\n",
       "        vertical-align: top;\n",
       "    }\n",
       "\n",
       "    .dataframe thead th {\n",
       "        text-align: right;\n",
       "    }\n",
       "</style>\n",
       "<table border=\"1\" class=\"dataframe\">\n",
       "  <thead>\n",
       "    <tr style=\"text-align: right;\">\n",
       "      <th></th>\n",
       "      <th>label</th>\n",
       "      <th>pixel0</th>\n",
       "      <th>pixel1</th>\n",
       "      <th>pixel2</th>\n",
       "      <th>pixel3</th>\n",
       "      <th>pixel4</th>\n",
       "      <th>pixel5</th>\n",
       "      <th>pixel6</th>\n",
       "      <th>pixel7</th>\n",
       "      <th>pixel8</th>\n",
       "      <th>...</th>\n",
       "      <th>pixel774</th>\n",
       "      <th>pixel775</th>\n",
       "      <th>pixel776</th>\n",
       "      <th>pixel777</th>\n",
       "      <th>pixel778</th>\n",
       "      <th>pixel779</th>\n",
       "      <th>pixel780</th>\n",
       "      <th>pixel781</th>\n",
       "      <th>pixel782</th>\n",
       "      <th>pixel783</th>\n",
       "    </tr>\n",
       "  </thead>\n",
       "  <tbody>\n",
       "    <tr>\n",
       "      <th>0</th>\n",
       "      <td>1</td>\n",
       "      <td>0</td>\n",
       "      <td>0</td>\n",
       "      <td>0</td>\n",
       "      <td>0</td>\n",
       "      <td>0</td>\n",
       "      <td>0</td>\n",
       "      <td>0</td>\n",
       "      <td>0</td>\n",
       "      <td>0</td>\n",
       "      <td>...</td>\n",
       "      <td>0</td>\n",
       "      <td>0</td>\n",
       "      <td>0</td>\n",
       "      <td>0</td>\n",
       "      <td>0</td>\n",
       "      <td>0</td>\n",
       "      <td>0</td>\n",
       "      <td>0</td>\n",
       "      <td>0</td>\n",
       "      <td>0</td>\n",
       "    </tr>\n",
       "    <tr>\n",
       "      <th>1</th>\n",
       "      <td>0</td>\n",
       "      <td>0</td>\n",
       "      <td>0</td>\n",
       "      <td>0</td>\n",
       "      <td>0</td>\n",
       "      <td>0</td>\n",
       "      <td>0</td>\n",
       "      <td>0</td>\n",
       "      <td>0</td>\n",
       "      <td>0</td>\n",
       "      <td>...</td>\n",
       "      <td>0</td>\n",
       "      <td>0</td>\n",
       "      <td>0</td>\n",
       "      <td>0</td>\n",
       "      <td>0</td>\n",
       "      <td>0</td>\n",
       "      <td>0</td>\n",
       "      <td>0</td>\n",
       "      <td>0</td>\n",
       "      <td>0</td>\n",
       "    </tr>\n",
       "    <tr>\n",
       "      <th>2</th>\n",
       "      <td>1</td>\n",
       "      <td>0</td>\n",
       "      <td>0</td>\n",
       "      <td>0</td>\n",
       "      <td>0</td>\n",
       "      <td>0</td>\n",
       "      <td>0</td>\n",
       "      <td>0</td>\n",
       "      <td>0</td>\n",
       "      <td>0</td>\n",
       "      <td>...</td>\n",
       "      <td>0</td>\n",
       "      <td>0</td>\n",
       "      <td>0</td>\n",
       "      <td>0</td>\n",
       "      <td>0</td>\n",
       "      <td>0</td>\n",
       "      <td>0</td>\n",
       "      <td>0</td>\n",
       "      <td>0</td>\n",
       "      <td>0</td>\n",
       "    </tr>\n",
       "    <tr>\n",
       "      <th>3</th>\n",
       "      <td>4</td>\n",
       "      <td>0</td>\n",
       "      <td>0</td>\n",
       "      <td>0</td>\n",
       "      <td>0</td>\n",
       "      <td>0</td>\n",
       "      <td>0</td>\n",
       "      <td>0</td>\n",
       "      <td>0</td>\n",
       "      <td>0</td>\n",
       "      <td>...</td>\n",
       "      <td>0</td>\n",
       "      <td>0</td>\n",
       "      <td>0</td>\n",
       "      <td>0</td>\n",
       "      <td>0</td>\n",
       "      <td>0</td>\n",
       "      <td>0</td>\n",
       "      <td>0</td>\n",
       "      <td>0</td>\n",
       "      <td>0</td>\n",
       "    </tr>\n",
       "    <tr>\n",
       "      <th>4</th>\n",
       "      <td>0</td>\n",
       "      <td>0</td>\n",
       "      <td>0</td>\n",
       "      <td>0</td>\n",
       "      <td>0</td>\n",
       "      <td>0</td>\n",
       "      <td>0</td>\n",
       "      <td>0</td>\n",
       "      <td>0</td>\n",
       "      <td>0</td>\n",
       "      <td>...</td>\n",
       "      <td>0</td>\n",
       "      <td>0</td>\n",
       "      <td>0</td>\n",
       "      <td>0</td>\n",
       "      <td>0</td>\n",
       "      <td>0</td>\n",
       "      <td>0</td>\n",
       "      <td>0</td>\n",
       "      <td>0</td>\n",
       "      <td>0</td>\n",
       "    </tr>\n",
       "    <tr>\n",
       "      <th>5</th>\n",
       "      <td>0</td>\n",
       "      <td>0</td>\n",
       "      <td>0</td>\n",
       "      <td>0</td>\n",
       "      <td>0</td>\n",
       "      <td>0</td>\n",
       "      <td>0</td>\n",
       "      <td>0</td>\n",
       "      <td>0</td>\n",
       "      <td>0</td>\n",
       "      <td>...</td>\n",
       "      <td>0</td>\n",
       "      <td>0</td>\n",
       "      <td>0</td>\n",
       "      <td>0</td>\n",
       "      <td>0</td>\n",
       "      <td>0</td>\n",
       "      <td>0</td>\n",
       "      <td>0</td>\n",
       "      <td>0</td>\n",
       "      <td>0</td>\n",
       "    </tr>\n",
       "    <tr>\n",
       "      <th>6</th>\n",
       "      <td>7</td>\n",
       "      <td>0</td>\n",
       "      <td>0</td>\n",
       "      <td>0</td>\n",
       "      <td>0</td>\n",
       "      <td>0</td>\n",
       "      <td>0</td>\n",
       "      <td>0</td>\n",
       "      <td>0</td>\n",
       "      <td>0</td>\n",
       "      <td>...</td>\n",
       "      <td>0</td>\n",
       "      <td>0</td>\n",
       "      <td>0</td>\n",
       "      <td>0</td>\n",
       "      <td>0</td>\n",
       "      <td>0</td>\n",
       "      <td>0</td>\n",
       "      <td>0</td>\n",
       "      <td>0</td>\n",
       "      <td>0</td>\n",
       "    </tr>\n",
       "    <tr>\n",
       "      <th>7</th>\n",
       "      <td>3</td>\n",
       "      <td>0</td>\n",
       "      <td>0</td>\n",
       "      <td>0</td>\n",
       "      <td>0</td>\n",
       "      <td>0</td>\n",
       "      <td>0</td>\n",
       "      <td>0</td>\n",
       "      <td>0</td>\n",
       "      <td>0</td>\n",
       "      <td>...</td>\n",
       "      <td>0</td>\n",
       "      <td>0</td>\n",
       "      <td>0</td>\n",
       "      <td>0</td>\n",
       "      <td>0</td>\n",
       "      <td>0</td>\n",
       "      <td>0</td>\n",
       "      <td>0</td>\n",
       "      <td>0</td>\n",
       "      <td>0</td>\n",
       "    </tr>\n",
       "    <tr>\n",
       "      <th>8</th>\n",
       "      <td>5</td>\n",
       "      <td>0</td>\n",
       "      <td>0</td>\n",
       "      <td>0</td>\n",
       "      <td>0</td>\n",
       "      <td>0</td>\n",
       "      <td>0</td>\n",
       "      <td>0</td>\n",
       "      <td>0</td>\n",
       "      <td>0</td>\n",
       "      <td>...</td>\n",
       "      <td>0</td>\n",
       "      <td>0</td>\n",
       "      <td>0</td>\n",
       "      <td>0</td>\n",
       "      <td>0</td>\n",
       "      <td>0</td>\n",
       "      <td>0</td>\n",
       "      <td>0</td>\n",
       "      <td>0</td>\n",
       "      <td>0</td>\n",
       "    </tr>\n",
       "    <tr>\n",
       "      <th>9</th>\n",
       "      <td>3</td>\n",
       "      <td>0</td>\n",
       "      <td>0</td>\n",
       "      <td>0</td>\n",
       "      <td>0</td>\n",
       "      <td>0</td>\n",
       "      <td>0</td>\n",
       "      <td>0</td>\n",
       "      <td>0</td>\n",
       "      <td>0</td>\n",
       "      <td>...</td>\n",
       "      <td>0</td>\n",
       "      <td>0</td>\n",
       "      <td>0</td>\n",
       "      <td>0</td>\n",
       "      <td>0</td>\n",
       "      <td>0</td>\n",
       "      <td>0</td>\n",
       "      <td>0</td>\n",
       "      <td>0</td>\n",
       "      <td>0</td>\n",
       "    </tr>\n",
       "  </tbody>\n",
       "</table>\n",
       "<p>10 rows × 785 columns</p>\n",
       "</div>"
      ],
      "text/plain": [
       "   label  pixel0  pixel1  pixel2  pixel3  pixel4  pixel5  pixel6  pixel7  \\\n",
       "0      1       0       0       0       0       0       0       0       0   \n",
       "1      0       0       0       0       0       0       0       0       0   \n",
       "2      1       0       0       0       0       0       0       0       0   \n",
       "3      4       0       0       0       0       0       0       0       0   \n",
       "4      0       0       0       0       0       0       0       0       0   \n",
       "5      0       0       0       0       0       0       0       0       0   \n",
       "6      7       0       0       0       0       0       0       0       0   \n",
       "7      3       0       0       0       0       0       0       0       0   \n",
       "8      5       0       0       0       0       0       0       0       0   \n",
       "9      3       0       0       0       0       0       0       0       0   \n",
       "\n",
       "   pixel8  ...  pixel774  pixel775  pixel776  pixel777  pixel778  pixel779  \\\n",
       "0       0  ...         0         0         0         0         0         0   \n",
       "1       0  ...         0         0         0         0         0         0   \n",
       "2       0  ...         0         0         0         0         0         0   \n",
       "3       0  ...         0         0         0         0         0         0   \n",
       "4       0  ...         0         0         0         0         0         0   \n",
       "5       0  ...         0         0         0         0         0         0   \n",
       "6       0  ...         0         0         0         0         0         0   \n",
       "7       0  ...         0         0         0         0         0         0   \n",
       "8       0  ...         0         0         0         0         0         0   \n",
       "9       0  ...         0         0         0         0         0         0   \n",
       "\n",
       "   pixel780  pixel781  pixel782  pixel783  \n",
       "0         0         0         0         0  \n",
       "1         0         0         0         0  \n",
       "2         0         0         0         0  \n",
       "3         0         0         0         0  \n",
       "4         0         0         0         0  \n",
       "5         0         0         0         0  \n",
       "6         0         0         0         0  \n",
       "7         0         0         0         0  \n",
       "8         0         0         0         0  \n",
       "9         0         0         0         0  \n",
       "\n",
       "[10 rows x 785 columns]"
      ]
     },
     "execution_count": 3,
     "metadata": {},
     "output_type": "execute_result"
    }
   ],
   "source": [
    "train_data.head(10)"
   ]
  },
  {
   "cell_type": "code",
   "execution_count": 4,
   "id": "c902bfa1",
   "metadata": {
    "execution": {
     "iopub.execute_input": "2023-07-05T10:52:20.322990Z",
     "iopub.status.busy": "2023-07-05T10:52:20.322596Z",
     "iopub.status.idle": "2023-07-05T10:52:20.526613Z",
     "shell.execute_reply": "2023-07-05T10:52:20.525514Z"
    },
    "papermill": {
     "duration": 0.211805,
     "end_time": "2023-07-05T10:52:20.528798",
     "exception": false,
     "start_time": "2023-07-05T10:52:20.316993",
     "status": "completed"
    },
    "tags": []
   },
   "outputs": [
    {
     "name": "stdout",
     "output_type": "stream",
     "text": [
      "Model: \"sequential\"\n",
      "_________________________________________________________________\n",
      " Layer (type)                Output Shape              Param #   \n",
      "=================================================================\n",
      " dense (Dense)               (None, 25)                19625     \n",
      "                                                                 \n",
      " dense_1 (Dense)             (None, 15)                390       \n",
      "                                                                 \n",
      " dense_2 (Dense)             (None, 10)                160       \n",
      "                                                                 \n",
      "=================================================================\n",
      "Total params: 20,175\n",
      "Trainable params: 20,175\n",
      "Non-trainable params: 0\n",
      "_________________________________________________________________\n"
     ]
    }
   ],
   "source": [
    "model=tf.keras.Sequential([\n",
    "    tf.keras.Input(shape=(784,)),\n",
    "    tf.keras.layers.Dense(25,activation='relu'),\n",
    "    tf.keras.layers.Dense(15,activation='relu'),\n",
    "    tf.keras.layers.Dense(10,activation='linear')\n",
    "])\n",
    "model.summary()"
   ]
  },
  {
   "cell_type": "code",
   "execution_count": 5,
   "id": "2cdfd49c",
   "metadata": {
    "execution": {
     "iopub.execute_input": "2023-07-05T10:52:20.540919Z",
     "iopub.status.busy": "2023-07-05T10:52:20.540557Z",
     "iopub.status.idle": "2023-07-05T10:52:20.559130Z",
     "shell.execute_reply": "2023-07-05T10:52:20.557941Z"
    },
    "papermill": {
     "duration": 0.027268,
     "end_time": "2023-07-05T10:52:20.561470",
     "exception": false,
     "start_time": "2023-07-05T10:52:20.534202",
     "status": "completed"
    },
    "tags": []
   },
   "outputs": [],
   "source": [
    "model.compile(\n",
    "    loss=tf.keras.losses.SparseCategoricalCrossentropy(from_logits=True),\n",
    "    optimizer=tf.keras.optimizers.Adam(learning_rate=0.001),\n",
    ")"
   ]
  },
  {
   "cell_type": "code",
   "execution_count": 6,
   "id": "b11e28d2",
   "metadata": {
    "execution": {
     "iopub.execute_input": "2023-07-05T10:52:20.573753Z",
     "iopub.status.busy": "2023-07-05T10:52:20.573348Z",
     "iopub.status.idle": "2023-07-05T10:52:21.092870Z",
     "shell.execute_reply": "2023-07-05T10:52:21.091915Z"
    },
    "papermill": {
     "duration": 0.528682,
     "end_time": "2023-07-05T10:52:21.095524",
     "exception": false,
     "start_time": "2023-07-05T10:52:20.566842",
     "status": "completed"
    },
    "tags": []
   },
   "outputs": [],
   "source": [
    "X=train_data.copy()\n",
    "y=X.pop('label')\n",
    "Xt = test_data.copy()\n",
    "Xt=tf.convert_to_tensor(Xt)"
   ]
  },
  {
   "cell_type": "code",
   "execution_count": 7,
   "id": "44fccb5c",
   "metadata": {
    "execution": {
     "iopub.execute_input": "2023-07-05T10:52:21.109627Z",
     "iopub.status.busy": "2023-07-05T10:52:21.108799Z",
     "iopub.status.idle": "2023-07-05T10:52:21.715820Z",
     "shell.execute_reply": "2023-07-05T10:52:21.714672Z"
    },
    "papermill": {
     "duration": 0.616448,
     "end_time": "2023-07-05T10:52:21.718854",
     "exception": false,
     "start_time": "2023-07-05T10:52:21.102406",
     "status": "completed"
    },
    "tags": []
   },
   "outputs": [],
   "source": [
    "X=tf.convert_to_tensor(X)\n",
    "y=tf.convert_to_tensor(y)"
   ]
  },
  {
   "cell_type": "code",
   "execution_count": 8,
   "id": "9222a12b",
   "metadata": {
    "execution": {
     "iopub.execute_input": "2023-07-05T10:52:21.731310Z",
     "iopub.status.busy": "2023-07-05T10:52:21.730698Z",
     "iopub.status.idle": "2023-07-05T10:53:54.164222Z",
     "shell.execute_reply": "2023-07-05T10:53:54.162863Z"
    },
    "papermill": {
     "duration": 92.442727,
     "end_time": "2023-07-05T10:53:54.166954",
     "exception": false,
     "start_time": "2023-07-05T10:52:21.724227",
     "status": "completed"
    },
    "tags": []
   },
   "outputs": [
    {
     "name": "stdout",
     "output_type": "stream",
     "text": [
      "Epoch 1/40\n",
      "1313/1313 [==============================] - 3s 2ms/step - loss: 2.3889\n",
      "Epoch 2/40\n",
      "1313/1313 [==============================] - 2s 2ms/step - loss: 1.1662\n",
      "Epoch 3/40\n",
      "1313/1313 [==============================] - 2s 2ms/step - loss: 0.9004\n",
      "Epoch 4/40\n",
      "1313/1313 [==============================] - 2s 2ms/step - loss: 0.6820\n",
      "Epoch 5/40\n",
      "1313/1313 [==============================] - 2s 2ms/step - loss: 0.4449\n",
      "Epoch 6/40\n",
      "1313/1313 [==============================] - 2s 2ms/step - loss: 0.3489\n",
      "Epoch 7/40\n",
      "1313/1313 [==============================] - 2s 2ms/step - loss: 0.2970\n",
      "Epoch 8/40\n",
      "1313/1313 [==============================] - 2s 2ms/step - loss: 0.2649\n",
      "Epoch 9/40\n",
      "1313/1313 [==============================] - 2s 2ms/step - loss: 0.2399\n",
      "Epoch 10/40\n",
      "1313/1313 [==============================] - 2s 2ms/step - loss: 0.2204\n",
      "Epoch 11/40\n",
      "1313/1313 [==============================] - 2s 2ms/step - loss: 0.2067\n",
      "Epoch 12/40\n",
      "1313/1313 [==============================] - 2s 2ms/step - loss: 0.1971\n",
      "Epoch 13/40\n",
      "1313/1313 [==============================] - 2s 2ms/step - loss: 0.1865\n",
      "Epoch 14/40\n",
      "1313/1313 [==============================] - 2s 2ms/step - loss: 0.1801\n",
      "Epoch 15/40\n",
      "1313/1313 [==============================] - 2s 2ms/step - loss: 0.1793\n",
      "Epoch 16/40\n",
      "1313/1313 [==============================] - 2s 2ms/step - loss: 0.1726\n",
      "Epoch 17/40\n",
      "1313/1313 [==============================] - 2s 2ms/step - loss: 0.1649\n",
      "Epoch 18/40\n",
      "1313/1313 [==============================] - 2s 2ms/step - loss: 0.1586\n",
      "Epoch 19/40\n",
      "1313/1313 [==============================] - 2s 2ms/step - loss: 0.1590\n",
      "Epoch 20/40\n",
      "1313/1313 [==============================] - 2s 2ms/step - loss: 0.1519\n",
      "Epoch 21/40\n",
      "1313/1313 [==============================] - 2s 2ms/step - loss: 0.1474\n",
      "Epoch 22/40\n",
      "1313/1313 [==============================] - 2s 2ms/step - loss: 0.1466\n",
      "Epoch 23/40\n",
      "1313/1313 [==============================] - 2s 2ms/step - loss: 0.1426\n",
      "Epoch 24/40\n",
      "1313/1313 [==============================] - 2s 2ms/step - loss: 0.1399\n",
      "Epoch 25/40\n",
      "1313/1313 [==============================] - 2s 2ms/step - loss: 0.1367\n",
      "Epoch 26/40\n",
      "1313/1313 [==============================] - 2s 2ms/step - loss: 0.1353\n",
      "Epoch 27/40\n",
      "1313/1313 [==============================] - 2s 2ms/step - loss: 0.1332\n",
      "Epoch 28/40\n",
      "1313/1313 [==============================] - 3s 2ms/step - loss: 0.1292\n",
      "Epoch 29/40\n",
      "1313/1313 [==============================] - 2s 2ms/step - loss: 0.1278\n",
      "Epoch 30/40\n",
      "1313/1313 [==============================] - 2s 2ms/step - loss: 0.1283\n",
      "Epoch 31/40\n",
      "1313/1313 [==============================] - 2s 2ms/step - loss: 0.1214\n",
      "Epoch 32/40\n",
      "1313/1313 [==============================] - 2s 2ms/step - loss: 0.1212\n",
      "Epoch 33/40\n",
      "1313/1313 [==============================] - 2s 2ms/step - loss: 0.1201\n",
      "Epoch 34/40\n",
      "1313/1313 [==============================] - 2s 2ms/step - loss: 0.1205\n",
      "Epoch 35/40\n",
      "1313/1313 [==============================] - 2s 2ms/step - loss: 0.1146\n",
      "Epoch 36/40\n",
      "1313/1313 [==============================] - 2s 2ms/step - loss: 0.1251\n",
      "Epoch 37/40\n",
      "1313/1313 [==============================] - 2s 2ms/step - loss: 0.1126\n",
      "Epoch 38/40\n",
      "1313/1313 [==============================] - 2s 2ms/step - loss: 0.1157\n",
      "Epoch 39/40\n",
      "1313/1313 [==============================] - 2s 2ms/step - loss: 0.1081\n",
      "Epoch 40/40\n",
      "1313/1313 [==============================] - 2s 2ms/step - loss: 0.1106\n"
     ]
    }
   ],
   "source": [
    "history = model.fit(\n",
    "    X,y,\n",
    "    epochs=40\n",
    ")"
   ]
  },
  {
   "cell_type": "code",
   "execution_count": 9,
   "id": "79fc9e5e",
   "metadata": {
    "execution": {
     "iopub.execute_input": "2023-07-05T10:53:54.410805Z",
     "iopub.status.busy": "2023-07-05T10:53:54.410420Z",
     "iopub.status.idle": "2023-07-05T10:53:56.175102Z",
     "shell.execute_reply": "2023-07-05T10:53:56.174185Z"
    },
    "papermill": {
     "duration": 1.888218,
     "end_time": "2023-07-05T10:53:56.177824",
     "exception": false,
     "start_time": "2023-07-05T10:53:54.289606",
     "status": "completed"
    },
    "tags": []
   },
   "outputs": [
    {
     "name": "stdout",
     "output_type": "stream",
     "text": [
      "875/875 [==============================] - 1s 1ms/step\n"
     ]
    }
   ],
   "source": [
    "ans=model.predict(Xt)"
   ]
  },
  {
   "cell_type": "code",
   "execution_count": 10,
   "id": "689725bd",
   "metadata": {
    "execution": {
     "iopub.execute_input": "2023-07-05T10:53:56.424819Z",
     "iopub.status.busy": "2023-07-05T10:53:56.423750Z",
     "iopub.status.idle": "2023-07-05T10:53:56.448811Z",
     "shell.execute_reply": "2023-07-05T10:53:56.448039Z"
    },
    "papermill": {
     "duration": 0.150316,
     "end_time": "2023-07-05T10:53:56.451085",
     "exception": false,
     "start_time": "2023-07-05T10:53:56.300769",
     "status": "completed"
    },
    "tags": []
   },
   "outputs": [],
   "source": [
    "pred=[]\n",
    "for i in range(len(ans)):\n",
    "    pred.append(ans[i].argmax())"
   ]
  },
  {
   "cell_type": "code",
   "execution_count": 11,
   "id": "14ea6278",
   "metadata": {
    "execution": {
     "iopub.execute_input": "2023-07-05T10:53:56.694764Z",
     "iopub.status.busy": "2023-07-05T10:53:56.694355Z",
     "iopub.status.idle": "2023-07-05T10:53:56.823912Z",
     "shell.execute_reply": "2023-07-05T10:53:56.822810Z"
    },
    "papermill": {
     "duration": 0.253929,
     "end_time": "2023-07-05T10:53:56.826207",
     "exception": false,
     "start_time": "2023-07-05T10:53:56.572278",
     "status": "completed"
    },
    "tags": []
   },
   "outputs": [
    {
     "name": "stdout",
     "output_type": "stream",
     "text": [
      "Your submission was successfully saved!\n"
     ]
    }
   ],
   "source": [
    "output = pd.DataFrame({'ImageId': test_data.index+1, 'Label': pred})\n",
    "output.to_csv('my_submission.csv', index=False)\n",
    "print(\"Your submission was successfully saved!\")"
   ]
  },
  {
   "cell_type": "code",
   "execution_count": null,
   "id": "50712731",
   "metadata": {
    "execution": {
     "iopub.execute_input": "2023-07-05T10:45:34.885354Z",
     "iopub.status.busy": "2023-07-05T10:45:34.884817Z",
     "iopub.status.idle": "2023-07-05T10:45:34.899740Z",
     "shell.execute_reply": "2023-07-05T10:45:34.898481Z",
     "shell.execute_reply.started": "2023-07-05T10:45:34.885312Z"
    },
    "papermill": {
     "duration": 0.128433,
     "end_time": "2023-07-05T10:53:57.085065",
     "exception": false,
     "start_time": "2023-07-05T10:53:56.956632",
     "status": "completed"
    },
    "tags": []
   },
   "outputs": [],
   "source": []
  },
  {
   "cell_type": "code",
   "execution_count": null,
   "id": "bfabd745",
   "metadata": {
    "execution": {
     "iopub.execute_input": "2023-07-05T10:51:25.981492Z",
     "iopub.status.busy": "2023-07-05T10:51:25.981017Z",
     "iopub.status.idle": "2023-07-05T10:51:25.996055Z",
     "shell.execute_reply": "2023-07-05T10:51:25.994740Z",
     "shell.execute_reply.started": "2023-07-05T10:51:25.981437Z"
    },
    "papermill": {
     "duration": 0.134677,
     "end_time": "2023-07-05T10:53:57.346608",
     "exception": false,
     "start_time": "2023-07-05T10:53:57.211931",
     "status": "completed"
    },
    "tags": []
   },
   "outputs": [],
   "source": []
  },
  {
   "cell_type": "code",
   "execution_count": null,
   "id": "98af21dc",
   "metadata": {
    "papermill": {
     "duration": 0.120342,
     "end_time": "2023-07-05T10:53:57.588173",
     "exception": false,
     "start_time": "2023-07-05T10:53:57.467831",
     "status": "completed"
    },
    "tags": []
   },
   "outputs": [],
   "source": []
  }
 ],
 "metadata": {
  "kernelspec": {
   "display_name": "Python 3",
   "language": "python",
   "name": "python3"
  },
  "language_info": {
   "codemirror_mode": {
    "name": "ipython",
    "version": 3
   },
   "file_extension": ".py",
   "mimetype": "text/x-python",
   "name": "python",
   "nbconvert_exporter": "python",
   "pygments_lexer": "ipython3",
   "version": "3.10.10"
  },
  "papermill": {
   "default_parameters": {},
   "duration": 125.641403,
   "end_time": "2023-07-05T10:54:01.309949",
   "environment_variables": {},
   "exception": null,
   "input_path": "__notebook__.ipynb",
   "output_path": "__notebook__.ipynb",
   "parameters": {},
   "start_time": "2023-07-05T10:51:55.668546",
   "version": "2.4.0"
  }
 },
 "nbformat": 4,
 "nbformat_minor": 5
}
